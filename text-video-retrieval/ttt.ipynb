{
 "cells": [
  {
   "cell_type": "code",
   "execution_count": 4,
   "metadata": {},
   "outputs": [
    {
     "data": {
      "text/plain": "<IPython.core.display.HTML object>",
      "text/html": "<img src=\"./gif/video7020.gif\">"
     },
     "execution_count": 4,
     "metadata": {},
     "output_type": "execute_result"
    }
   ],
   "source": [
    "\n",
    "from IPython.display import Image, display\n",
    "def display_gif(fn):\n",
    "    from IPython import display\n",
    "    return display.HTML('<img src=\"{}\">'.format(fn))\n",
    "c = Image(url='https://upload.wikimedia.org/wikipedia/commons/7/71/ChessPawnSpecialMoves.gif')\n",
    "d = Image(url='https://commons.wikimedia.org/wiki/File:Video7020.gif')\n",
    "# Image(url='https://ibb.co/ZWzVMR2.gif')\n",
    "# Image(url='./vedio.gif')\n",
    "a =  Image(filename='./gif/video7020.gif')\n",
    "display_gif('./gif/video7020.gif')\n",
    "# display(a)\n",
    "# print('aaaa')\n",
    "# display(b)\n",
    "# print('bbbb')\n",
    "# a\n",
    "# display(b)\n",
    "# display(c)\n",
    "# c\n",
    "# Image(url='https://commons.wikimedia.org/wiki/File:Video7020.gif')"
   ]
  },
  {
   "cell_type": "code",
   "execution_count": 2,
   "metadata": {
    "pycharm": {
     "is_executing": true,
     "name": "#%%\n"
    }
   },
   "outputs": [],
   "source": [
    "# import towhee\n",
    "# # towhee.glob('/Users/zilliz/Downloads/towhee_bird.jpg') \\\n",
    "# #       .image_decode() \\\n",
    "# #         .show()\n",
    "# towhee.glob('/Users/zilliz/Downloads/towhee_bird.jpg') \\\n",
    "#       .image_decode() \\\n",
    "#       .show()"
   ]
  },
  {
   "cell_type": "code",
   "execution_count": null,
   "metadata": {
    "pycharm": {
     "name": "#%%\n"
    }
   },
   "outputs": [],
   "source": []
  }
 ],
 "metadata": {
  "kernelspec": {
   "name": "python3",
   "language": "python",
   "display_name": "Python 3 (ipykernel)"
  },
  "language_info": {
   "codemirror_mode": {
    "name": "ipython",
    "version": 3
   },
   "file_extension": ".py",
   "mimetype": "text/x-python",
   "name": "python",
   "nbconvert_exporter": "python",
   "pygments_lexer": "ipython3",
   "version": "3.8.12"
  }
 },
 "nbformat": 4,
 "nbformat_minor": 1
}